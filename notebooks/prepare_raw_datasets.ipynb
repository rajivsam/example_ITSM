{
 "cells": [
  {
   "cell_type": "code",
   "execution_count": null,
   "id": "8a05664b-47fe-4959-aacb-92e183ac7de6",
   "metadata": {},
   "outputs": [],
   "source": [
    "import pandas as pd\n",
    "fp = \"../data/incident_event_log_02.csv\"\n",
    "df = pd.read_csv(fp)"
   ]
  },
  {
   "cell_type": "code",
   "execution_count": null,
   "id": "2ce19d35-8b50-42bc-86ef-7f506edcac75",
   "metadata": {},
   "outputs": [],
   "source": [
    "df_size = pd.DataFrame.from_records([{\"rows\": df.shape[0], \"cols\": df.shape[1]}])"
   ]
  },
  {
   "cell_type": "code",
   "execution_count": null,
   "id": "5db67a49-e85b-4334-9dba-a0397ef57396",
   "metadata": {},
   "outputs": [],
   "source": [
    "col_df = pd.DataFrame({\"columns\": df.columns.tolist()})"
   ]
  },
  {
   "cell_type": "code",
   "execution_count": null,
   "id": "edba0c39-9722-4477-a20d-ddead7025e17",
   "metadata": {},
   "outputs": [],
   "source": [
    "df_nv = df.isnull().any().to_frame().reset_index()\n",
    "df_nv.columns = [\"column\", \"null_values\"]\n",
    "df_nv.to_json()"
   ]
  },
  {
   "cell_type": "code",
   "execution_count": null,
   "id": "b6bc6776-e8d0-4bfc-a727-b43c95d10bb8",
   "metadata": {},
   "outputs": [],
   "source": [
    "df_raw_types = df.dtypes.to_frame().reset_index()\n",
    "df_raw_types.columns = [\"column\", \"dtype\"]\n",
    "df_raw_types[\"dtype\"] = df_raw_types[\"dtype\"].astype(str)\n",
    "df_raw_summary = df_raw_types.merge(df_nv, on=\"column\")\n",
    "df_raw_summary"
   ]
  },
  {
   "cell_type": "code",
   "execution_count": null,
   "id": "ec4a42d7-ce5a-456d-867a-2b2ea2e914c4",
   "metadata": {},
   "outputs": [],
   "source": [
    "cols = df.columns.tolist()\n",
    "int_cols = [c for c in cols if \"count\" in c]\n",
    "date_time_cols = [c for c in cols if \"_at\" in c]\n"
   ]
  },
  {
   "cell_type": "code",
   "execution_count": null,
   "id": "16a756a2-e59b-412a-ba78-31850ba37066",
   "metadata": {},
   "outputs": [],
   "source": [
    "raw_type_info = df.dtypes.to_dict()\n",
    "mod_type_info = raw_type_info.copy()"
   ]
  },
  {
   "cell_type": "code",
   "execution_count": null,
   "id": "81eddcc2-63ed-47d1-924f-91d31bf1006d",
   "metadata": {},
   "outputs": [],
   "source": [
    "import dateutil.parser as parser\n",
    "\n",
    "def valid_time_stamp(x):\n",
    "    try:\n",
    "        pdt = parser.parse(x)\n",
    "        return True\n",
    "    except:\n",
    "        return False"
   ]
  },
  {
   "cell_type": "code",
   "execution_count": null,
   "id": "c2a8195f-7888-4530-8e6d-c83d0e286efc",
   "metadata": {},
   "outputs": [],
   "source": [
    "from dask.distributed import Client\n",
    "dask_client = Client()\n",
    "dask_client"
   ]
  },
  {
   "cell_type": "code",
   "execution_count": null,
   "id": "13fd8f89-b49a-4ae5-8535-f9bd60581c6d",
   "metadata": {},
   "outputs": [],
   "source": [
    "import dask\n",
    "from dask.dataframe import from_pandas\n",
    "ddf = from_pandas(df, npartitions=4)"
   ]
  },
  {
   "cell_type": "code",
   "execution_count": null,
   "id": "95c2bff9-8638-47d1-a611-4cc9a6baa3aa",
   "metadata": {},
   "outputs": [],
   "source": [
    "valid_sys_creation = ddf[\"sys_created_at\"].apply(valid_time_stamp, meta=('sys_created_at', str)).compute()"
   ]
  },
  {
   "cell_type": "code",
   "execution_count": null,
   "id": "0fb13286-1a00-481c-bb13-2583fa521a54",
   "metadata": {},
   "outputs": [],
   "source": [
    "valid_opened_at = ddf[\"opened_at\"].apply(valid_time_stamp, meta=('opened_at', str)).compute()"
   ]
  },
  {
   "cell_type": "code",
   "execution_count": null,
   "id": "96e90a87-b287-4d59-97a7-a01ecac258af",
   "metadata": {},
   "outputs": [],
   "source": [
    "valid_resolved_at = ddf[\"resolved_at\"].apply(valid_time_stamp, meta=('resolved_at', str)).compute()"
   ]
  },
  {
   "cell_type": "code",
   "execution_count": null,
   "id": "806a137c-c330-46d0-bd8d-5e330fd4a0ca",
   "metadata": {},
   "outputs": [],
   "source": [
    "valid_closed_at = ddf[\"closed_at\"].apply(valid_time_stamp, meta=('closed_at', str)).compute()"
   ]
  },
  {
   "cell_type": "code",
   "execution_count": null,
   "id": "5be7c51f-0f81-4832-9f7d-1673507b6c87",
   "metadata": {},
   "outputs": [],
   "source": [
    "valid_dates = valid_sys_creation & valid_closed_at & valid_opened_at & valid_resolved_at"
   ]
  },
  {
   "cell_type": "code",
   "execution_count": null,
   "id": "f44d343e-2df7-484d-9fab-87e3df05b3fb",
   "metadata": {},
   "outputs": [],
   "source": [
    "ddf = ddf[valid_dates].compute()"
   ]
  },
  {
   "cell_type": "code",
   "execution_count": null,
   "id": "edeaef2e-8349-4007-95d8-07a3bc9451fe",
   "metadata": {},
   "outputs": [],
   "source": [
    "ddf.shape"
   ]
  },
  {
   "cell_type": "code",
   "execution_count": null,
   "id": "c341eae7-d60b-4ed8-9098-b68090c83fcb",
   "metadata": {},
   "outputs": [],
   "source": [
    "import dask as dd\n",
    "ddf[\"sys_created_at\"] = ddf[\"sys_created_at\"].apply(lambda x: parser.parse(x))\n",
    "ddf[\"opened_at\"] = ddf[\"opened_at\"].apply(lambda x: parser.parse(x))\n",
    "ddf[\"resolved_at\"] = ddf[\"resolved_at\"].apply(lambda x: parser.parse(x))\n",
    "ddf[\"closed_at\"] = ddf[\"closed_at\"].apply(lambda x: parser.parse(x))\n",
    "ddf[\"sys_updated_at\"] = ddf[\"sys_updated_at\"].apply(lambda x: parser.parse(x))"
   ]
  },
  {
   "cell_type": "code",
   "execution_count": null,
   "id": "8c1e6319-7d86-4f2a-bd6f-d08f4e685b1e",
   "metadata": {},
   "outputs": [],
   "source": [
    "for k,v in mod_type_info.items():\n",
    "    if k in int_cols:\n",
    "        mod_type_info[k] = \"int64\"\n",
    "    if k in date_time_cols:\n",
    "        mod_type_info[k] = \"datetime64[ns]\"\n",
    "    "
   ]
  },
  {
   "cell_type": "code",
   "execution_count": null,
   "id": "1119c230-d85e-431d-9def-0a7f13c29d58",
   "metadata": {},
   "outputs": [],
   "source": [
    "category_cols = [ c for c in cols if (c not in int_cols and c not in date_time_cols)]"
   ]
  },
  {
   "cell_type": "code",
   "execution_count": null,
   "id": "67d8da79-ea71-451d-8fe6-911ffca1f293",
   "metadata": {},
   "outputs": [],
   "source": [
    "category_cols"
   ]
  },
  {
   "cell_type": "code",
   "execution_count": null,
   "id": "b7cf9686-6dc3-42de-8deb-c80165e8c4d1",
   "metadata": {},
   "outputs": [],
   "source": [
    "nan_strings = \"UNKNOWN\"\n",
    "for c in category_cols:\n",
    "    ddf[c] = ddf[c].fillna(\"UNKNOWN\")\n",
    "    ddf[c] = ddf[c].astype(str)"
   ]
  },
  {
   "cell_type": "code",
   "execution_count": null,
   "id": "a9a90d98-ba59-4aaf-bc2d-f0c77d11cd77",
   "metadata": {},
   "outputs": [],
   "source": [
    "df_nv_fix_check = ddf.isnull().any().to_frame().reset_index()\n",
    "df_nv_fix_check.columns = [\"columns\", \"null_values\"]"
   ]
  },
  {
   "cell_type": "code",
   "execution_count": null,
   "id": "b91cfd1a-7f6c-4006-857f-8fc5e2d7919f",
   "metadata": {},
   "outputs": [],
   "source": [
    "df_nv_fix_check"
   ]
  },
  {
   "cell_type": "code",
   "execution_count": null,
   "id": "9acc802b-61d9-4021-b539-2ec737655f6e",
   "metadata": {},
   "outputs": [],
   "source": [
    "mod_type_info"
   ]
  },
  {
   "cell_type": "code",
   "execution_count": null,
   "id": "c6ad6111-2536-4c53-92ea-6dd3be10156e",
   "metadata": {},
   "outputs": [],
   "source": [
    "ddf.dtypes"
   ]
  },
  {
   "cell_type": "code",
   "execution_count": null,
   "id": "9e097ba1-c484-417c-9300-372609b36174",
   "metadata": {},
   "outputs": [],
   "source": [
    "ddf_qy = ddf[(ddf[\"closed_at\"].dt.quarter == 2) & (ddf[\"closed_at\"].dt.year == 2016)]\n",
    "fp = \"../data/ticket_resolution_Q2_2016.csv\"\n",
    "ddf_qy.to_csv(fp, index=False)\n"
   ]
  },
  {
   "cell_type": "code",
   "execution_count": null,
   "id": "3591340f",
   "metadata": {},
   "outputs": [],
   "source": [
    "df_types = ddf.dtypes.to_frame().reset_index()\n",
    "df_types.columns = [\"attribute\", \"type\"]\n",
    "fp =\"../data/data_types.csv\"\n",
    "df_types.to_csv(fp, index=False)"
   ]
  },
  {
   "cell_type": "code",
   "execution_count": null,
   "id": "beddc155",
   "metadata": {},
   "outputs": [],
   "source": [
    "df_types"
   ]
  },
  {
   "cell_type": "code",
   "execution_count": null,
   "id": "9163e8e4",
   "metadata": {},
   "outputs": [],
   "source": []
  }
 ],
 "metadata": {
  "kernelspec": {
   "display_name": "Python 3 (ipykernel)",
   "language": "python",
   "name": "python3"
  },
  "language_info": {
   "codemirror_mode": {
    "name": "ipython",
    "version": 3
   },
   "file_extension": ".py",
   "mimetype": "text/x-python",
   "name": "python",
   "nbconvert_exporter": "python",
   "pygments_lexer": "ipython3",
   "version": "3.10.12"
  }
 },
 "nbformat": 4,
 "nbformat_minor": 5
}
