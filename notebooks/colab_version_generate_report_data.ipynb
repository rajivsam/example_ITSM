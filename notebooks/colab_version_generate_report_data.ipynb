{
 "cells": [
  {
   "cell_type": "markdown",
   "id": "9fb4b7a0",
   "metadata": {
    "colab_type": "text",
    "id": "view-in-github"
   },
   "source": [
    "<a href=\"https://colab.research.google.com/github/rajivsam/example_ITSM/blob/main/notebooks/colab_version_generate_report_data.ipynb\" target=\"_parent\"><img src=\"https://colab.research.google.com/assets/colab-badge.svg\" alt=\"Open In Colab\"/></a>"
   ]
  },
  {
   "cell_type": "code",
   "execution_count": null,
   "id": "wFhLgcIeYAdF",
   "metadata": {
    "colab": {
     "base_uri": "https://localhost:8080/"
    },
    "id": "wFhLgcIeYAdF",
    "outputId": "20149353-0941-4f62-d32c-eb34d443a241"
   },
   "outputs": [],
   "source": [
    "! git clone https://github.com/rajivsam/example_ITSM.git"
   ]
  },
  {
   "cell_type": "code",
   "execution_count": null,
   "id": "1Soxr5dhYEpV",
   "metadata": {
    "id": "1Soxr5dhYEpV"
   },
   "outputs": [],
   "source": [
    "import os\n",
    "os.chdir('example_ITSM/notebooks')"
   ]
  },
  {
   "cell_type": "code",
   "execution_count": null,
   "id": "IAEHJOH2YH5N",
   "metadata": {
    "colab": {
     "base_uri": "https://localhost:8080/"
    },
    "id": "IAEHJOH2YH5N",
    "outputId": "8d40612a-b334-4092-9d8b-49a60d541fd8"
   },
   "outputs": [],
   "source": [
    "! pip install -r ../requirements.txt"
   ]
  },
  {
   "cell_type": "code",
   "execution_count": null,
   "id": "b68bda5e",
   "metadata": {
    "id": "b68bda5e"
   },
   "outputs": [],
   "source": [
    "import pandas as pd\n",
    "fp = \"../data/ticket_resolution_Q2_2016.csv\"\n",
    "df = pd.read_csv(fp)"
   ]
  },
  {
   "cell_type": "code",
   "execution_count": null,
   "id": "e94cbc60-ea63-43cc-a2c8-9e8f504b111a",
   "metadata": {
    "id": "e94cbc60-ea63-43cc-a2c8-9e8f504b111a"
   },
   "outputs": [],
   "source": [
    "fpdtypes = \"../data/data_types.csv\"\n",
    "dtypes_df = pd.read_csv(fpdtypes)\n",
    "dtypes_dict = {row[\"attribute\"]: row[\"type\"] for index, row in dtypes_df.iterrows()}\n",
    "df = df.astype(dtypes_dict)"
   ]
  },
  {
   "cell_type": "code",
   "execution_count": null,
   "id": "4648fdd7",
   "metadata": {
    "id": "4648fdd7"
   },
   "outputs": [],
   "source": [
    "cols_closed = [\"number\", \"sys_created_at\", \"incident_state\", \"assignment_group\", \"closed_at\"]\n",
    "df_ct = df[cols_closed].copy()\n",
    "del df"
   ]
  },
  {
   "cell_type": "code",
   "execution_count": null,
   "id": "cc81b150",
   "metadata": {
    "id": "cc81b150"
   },
   "outputs": [],
   "source": [
    "selection_closed = (df_ct[\"incident_state\"] == \"Closed\" )"
   ]
  },
  {
   "cell_type": "code",
   "execution_count": null,
   "id": "b5c27595-9618-488e-ac9b-7d811231c7fb",
   "metadata": {
    "id": "b5c27595-9618-488e-ac9b-7d811231c7fb"
   },
   "outputs": [],
   "source": [
    "df_ct[\"resolution_time\"] = df_ct[\"closed_at\"] - df_ct[\"sys_created_at\"]"
   ]
  },
  {
   "cell_type": "code",
   "execution_count": null,
   "id": "d843770f",
   "metadata": {
    "id": "d843770f"
   },
   "outputs": [],
   "source": [
    "df_ct[\"resolution_time\"] = df_ct[\"resolution_time\"].apply(lambda x: x.total_seconds()/(3600))"
   ]
  },
  {
   "cell_type": "code",
   "execution_count": null,
   "id": "6d4a9bdb-f64d-4627-9dd6-6f05ea8ec28a",
   "metadata": {
    "id": "6d4a9bdb-f64d-4627-9dd6-6f05ea8ec28a"
   },
   "outputs": [],
   "source": [
    "selection_valid_resolution_time = df_ct[\"resolution_time\"] > 0"
   ]
  },
  {
   "cell_type": "code",
   "execution_count": null,
   "id": "ed7bba7a",
   "metadata": {
    "id": "ed7bba7a"
   },
   "outputs": [],
   "source": [
    "valid_records = selection_closed & selection_valid_resolution_time\n",
    "df_ct = df_ct[valid_records]"
   ]
  },
  {
   "cell_type": "code",
   "execution_count": null,
   "id": "74e11aca-a8da-4da5-98c9-1230a7d6c40f",
   "metadata": {
    "colab": {
     "base_uri": "https://localhost:8080/",
     "height": 424
    },
    "id": "74e11aca-a8da-4da5-98c9-1230a7d6c40f",
    "outputId": "e596ac2d-6be0-4d61-8afd-f8b47964a132"
   },
   "outputs": [],
   "source": [
    "fp_q2_2016 = \"../data/plot_data_q2_2016_ticket_activity.csv\"\n",
    "df_ct.to_csv(fp_q2_2016, index=False)\n",
    "select_group_10_closing_activity = df_ct[\"assignment_group\"] == \"Group 10\"\n",
    "df_ct[select_group_10_closing_activity]"
   ]
  },
  {
   "cell_type": "code",
   "execution_count": null,
   "id": "47e25433-17eb-473e-bb36-b6d2379683d0",
   "metadata": {
    "colab": {
     "base_uri": "https://localhost:8080/",
     "height": 542
    },
    "id": "47e25433-17eb-473e-bb36-b6d2379683d0",
    "outputId": "08664c30-b6d0-4c2c-b8bb-a136144fdfc2"
   },
   "outputs": [],
   "source": [
    "import plotly.express as px\n",
    "import numpy as np\n",
    "\n",
    "fig = px.histogram(df_ct, x=\"resolution_time\", labels=dict(resolution_time=\"resolution time in hours\"))\n",
    "fig.show()"
   ]
  },
  {
   "cell_type": "code",
   "execution_count": null,
   "id": "17e98296-63ba-4f79-ac2f-4c3ccf1cc8f2",
   "metadata": {
    "colab": {
     "base_uri": "https://localhost:8080/",
     "height": 542
    },
    "id": "17e98296-63ba-4f79-ac2f-4c3ccf1cc8f2",
    "outputId": "d1343654-d142-4079-eb4f-5429a759c8d6"
   },
   "outputs": [],
   "source": [
    "import plotly.figure_factory as ff\n",
    "import numpy as np\n",
    "np.random.seed(1)\n",
    "fig = px.violin(df_ct, y=\"resolution_time\", box=True, points=\"all\", hover_data=df_ct.columns)\n",
    "fig.show()"
   ]
  },
  {
   "cell_type": "code",
   "execution_count": null,
   "id": "b3fe999f-a640-41d3-82fa-144dbd0b4b72",
   "metadata": {
    "colab": {
     "base_uri": "https://localhost:8080/",
     "height": 542
    },
    "id": "b3fe999f-a640-41d3-82fa-144dbd0b4b72",
    "outputId": "c84855b4-9b42-4fa4-e47f-9b73557f800f"
   },
   "outputs": [],
   "source": [
    "import plotly.express as px\n",
    "fig = px.ecdf(df_ct, x=\"resolution_time\")\n",
    "fig.show()"
   ]
  }
 ],
 "metadata": {
  "colab": {
   "include_colab_link": true,
   "provenance": []
  },
  "kernelspec": {
   "display_name": "Python 3 (ipykernel)",
   "language": "python",
   "name": "python3"
  },
  "language_info": {
   "codemirror_mode": {
    "name": "ipython",
    "version": 3
   },
   "file_extension": ".py",
   "mimetype": "text/x-python",
   "name": "python",
   "nbconvert_exporter": "python",
   "pygments_lexer": "ipython3",
   "version": "3.10.12"
  }
 },
 "nbformat": 4,
 "nbformat_minor": 5
}
