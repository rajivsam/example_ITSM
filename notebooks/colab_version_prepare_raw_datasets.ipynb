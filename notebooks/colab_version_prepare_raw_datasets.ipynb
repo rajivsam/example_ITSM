{
 "cells": [
  {
   "cell_type": "markdown",
   "id": "86c1949a",
   "metadata": {
    "colab_type": "text",
    "id": "view-in-github"
   },
   "source": [
    "<a href=\"https://colab.research.google.com/github/rajivsam/example_ITSM/blob/main/notebooks/colab_version_prepare_raw_datasets.ipynb\" target=\"_parent\"><img src=\"https://colab.research.google.com/assets/colab-badge.svg\" alt=\"Open In Colab\"/></a>"
   ]
  },
  {
   "cell_type": "code",
   "execution_count": null,
   "id": "9gkx-lzGQ455",
   "metadata": {
    "colab": {
     "base_uri": "https://localhost:8080/"
    },
    "id": "9gkx-lzGQ455",
    "outputId": "4cc5c559-d3d6-4e86-bb46-663b76bac57f"
   },
   "outputs": [],
   "source": [
    "! git clone https://github.com/rajivsam/example_ITSM.git"
   ]
  },
  {
   "cell_type": "code",
   "execution_count": null,
   "id": "92yPTGuLRvX5",
   "metadata": {
    "id": "92yPTGuLRvX5"
   },
   "outputs": [],
   "source": [
    "import os\n",
    "os.chdir('example_ITSM/notebooks')"
   ]
  },
  {
   "cell_type": "code",
   "execution_count": null,
   "id": "zD8pLwAESLlo",
   "metadata": {
    "colab": {
     "base_uri": "https://localhost:8080/"
    },
    "id": "zD8pLwAESLlo",
    "outputId": "f4a50397-be00-4899-8f5e-cc776df6fd81"
   },
   "outputs": [],
   "source": [
    "! pip install -r ../requirements.txt"
   ]
  },
  {
   "cell_type": "code",
   "execution_count": null,
   "id": "fCss_QEJR5cI",
   "metadata": {
    "colab": {
     "base_uri": "https://localhost:8080/"
    },
    "id": "fCss_QEJR5cI",
    "outputId": "6165606c-fc99-48ff-bfe3-a9128ebb3007"
   },
   "outputs": [],
   "source": [
    "!pwd"
   ]
  },
  {
   "cell_type": "code",
   "execution_count": null,
   "id": "8a05664b-47fe-4959-aacb-92e183ac7de6",
   "metadata": {
    "colab": {
     "base_uri": "https://localhost:8080/"
    },
    "id": "8a05664b-47fe-4959-aacb-92e183ac7de6",
    "outputId": "086a3306-989d-4233-df7c-a6e01affdcb3"
   },
   "outputs": [],
   "source": [
    "import pandas as pd\n",
    "fp = \"../data/incident_event_log_02.csv\"\n",
    "df = pd.read_csv(fp)"
   ]
  },
  {
   "cell_type": "code",
   "execution_count": null,
   "id": "2ce19d35-8b50-42bc-86ef-7f506edcac75",
   "metadata": {
    "id": "2ce19d35-8b50-42bc-86ef-7f506edcac75"
   },
   "outputs": [],
   "source": [
    "df_size = pd.DataFrame.from_records([{\"rows\": df.shape[0], \"cols\": df.shape[1]}])"
   ]
  },
  {
   "cell_type": "code",
   "execution_count": null,
   "id": "5db67a49-e85b-4334-9dba-a0397ef57396",
   "metadata": {
    "id": "5db67a49-e85b-4334-9dba-a0397ef57396"
   },
   "outputs": [],
   "source": [
    "col_df = pd.DataFrame({\"columns\": df.columns.tolist()})"
   ]
  },
  {
   "cell_type": "code",
   "execution_count": null,
   "id": "edba0c39-9722-4477-a20d-ddead7025e17",
   "metadata": {
    "colab": {
     "base_uri": "https://localhost:8080/",
     "height": 178
    },
    "id": "edba0c39-9722-4477-a20d-ddead7025e17",
    "outputId": "6f471d7a-0f47-433a-b74a-581e968d2955"
   },
   "outputs": [],
   "source": [
    "df_nv = df.isnull().any().to_frame().reset_index()\n",
    "df_nv.columns = [\"column\", \"null_values\"]\n",
    "df_nv.to_json()"
   ]
  },
  {
   "cell_type": "code",
   "execution_count": null,
   "id": "b6bc6776-e8d0-4bfc-a727-b43c95d10bb8",
   "metadata": {
    "colab": {
     "base_uri": "https://localhost:8080/",
     "height": 1000
    },
    "id": "b6bc6776-e8d0-4bfc-a727-b43c95d10bb8",
    "outputId": "5ef1c2d4-358f-40f7-a15f-bcd4061758ce"
   },
   "outputs": [],
   "source": [
    "df_raw_types = df.dtypes.to_frame().reset_index()\n",
    "df_raw_types.columns = [\"column\", \"dtype\"]\n",
    "df_raw_types[\"dtype\"] = df_raw_types[\"dtype\"].astype(str)\n",
    "df_raw_summary = df_raw_types.merge(df_nv, on=\"column\")\n",
    "df_raw_summary"
   ]
  },
  {
   "cell_type": "code",
   "execution_count": null,
   "id": "ec4a42d7-ce5a-456d-867a-2b2ea2e914c4",
   "metadata": {
    "id": "ec4a42d7-ce5a-456d-867a-2b2ea2e914c4"
   },
   "outputs": [],
   "source": [
    "cols = df.columns.tolist()\n",
    "int_cols = [c for c in cols if \"count\" in c]\n",
    "date_time_cols = [c for c in cols if \"_at\" in c]\n"
   ]
  },
  {
   "cell_type": "code",
   "execution_count": null,
   "id": "16a756a2-e59b-412a-ba78-31850ba37066",
   "metadata": {
    "id": "16a756a2-e59b-412a-ba78-31850ba37066"
   },
   "outputs": [],
   "source": [
    "raw_type_info = df.dtypes.to_dict()\n",
    "mod_type_info = raw_type_info.copy()"
   ]
  },
  {
   "cell_type": "code",
   "execution_count": null,
   "id": "81eddcc2-63ed-47d1-924f-91d31bf1006d",
   "metadata": {
    "id": "81eddcc2-63ed-47d1-924f-91d31bf1006d"
   },
   "outputs": [],
   "source": [
    "import dateutil.parser as parser\n",
    "\n",
    "def valid_time_stamp(x):\n",
    "    try:\n",
    "        pdt = parser.parse(x)\n",
    "        return True\n",
    "    except:\n",
    "        return False"
   ]
  },
  {
   "cell_type": "code",
   "execution_count": null,
   "id": "c2a8195f-7888-4530-8e6d-c83d0e286efc",
   "metadata": {
    "colab": {
     "base_uri": "https://localhost:8080/",
     "height": 432
    },
    "id": "c2a8195f-7888-4530-8e6d-c83d0e286efc",
    "outputId": "c425b7c8-01aa-4fcd-9130-1222fd7140e2"
   },
   "outputs": [],
   "source": [
    "from dask.distributed import Client\n",
    "dask_client = Client()\n",
    "dask_client"
   ]
  },
  {
   "cell_type": "code",
   "execution_count": null,
   "id": "13fd8f89-b49a-4ae5-8535-f9bd60581c6d",
   "metadata": {
    "id": "13fd8f89-b49a-4ae5-8535-f9bd60581c6d"
   },
   "outputs": [],
   "source": [
    "import dask\n",
    "from dask.dataframe import from_pandas\n",
    "ddf = from_pandas(df, npartitions=4)"
   ]
  },
  {
   "cell_type": "code",
   "execution_count": null,
   "id": "95c2bff9-8638-47d1-a611-4cc9a6baa3aa",
   "metadata": {
    "colab": {
     "base_uri": "https://localhost:8080/"
    },
    "id": "95c2bff9-8638-47d1-a611-4cc9a6baa3aa",
    "outputId": "5e2a2a8c-9fa7-46af-8c5b-ebc9c761de2f"
   },
   "outputs": [],
   "source": [
    "valid_sys_creation = ddf[\"sys_created_at\"].apply(valid_time_stamp, meta=('sys_created_at', str)).compute()"
   ]
  },
  {
   "cell_type": "code",
   "execution_count": null,
   "id": "0fb13286-1a00-481c-bb13-2583fa521a54",
   "metadata": {
    "colab": {
     "base_uri": "https://localhost:8080/"
    },
    "id": "0fb13286-1a00-481c-bb13-2583fa521a54",
    "outputId": "14734f74-e341-42ca-942d-a83337e673a1"
   },
   "outputs": [],
   "source": [
    "valid_opened_at = ddf[\"opened_at\"].apply(valid_time_stamp, meta=('opened_at', str)).compute()"
   ]
  },
  {
   "cell_type": "code",
   "execution_count": null,
   "id": "96e90a87-b287-4d59-97a7-a01ecac258af",
   "metadata": {
    "colab": {
     "base_uri": "https://localhost:8080/"
    },
    "id": "96e90a87-b287-4d59-97a7-a01ecac258af",
    "outputId": "3028618e-d535-45c0-bfaf-3bb00380f518"
   },
   "outputs": [],
   "source": [
    "valid_resolved_at = ddf[\"resolved_at\"].apply(valid_time_stamp, meta=('resolved_at', str)).compute()"
   ]
  },
  {
   "cell_type": "code",
   "execution_count": null,
   "id": "806a137c-c330-46d0-bd8d-5e330fd4a0ca",
   "metadata": {
    "colab": {
     "base_uri": "https://localhost:8080/"
    },
    "id": "806a137c-c330-46d0-bd8d-5e330fd4a0ca",
    "outputId": "a79ce7b4-9ccf-49d2-93e8-c76007d1c5b2"
   },
   "outputs": [],
   "source": [
    "valid_closed_at = ddf[\"closed_at\"].apply(valid_time_stamp, meta=('closed_at', str)).compute()"
   ]
  },
  {
   "cell_type": "code",
   "execution_count": null,
   "id": "5be7c51f-0f81-4832-9f7d-1673507b6c87",
   "metadata": {
    "id": "5be7c51f-0f81-4832-9f7d-1673507b6c87"
   },
   "outputs": [],
   "source": [
    "valid_dates = valid_sys_creation & valid_closed_at & valid_opened_at & valid_resolved_at"
   ]
  },
  {
   "cell_type": "code",
   "execution_count": null,
   "id": "f44d343e-2df7-484d-9fab-87e3df05b3fb",
   "metadata": {
    "colab": {
     "base_uri": "https://localhost:8080/"
    },
    "id": "f44d343e-2df7-484d-9fab-87e3df05b3fb",
    "outputId": "b0463d17-5024-4a65-9ec7-e1f0dce3d912"
   },
   "outputs": [],
   "source": [
    "ddf = ddf[valid_dates].compute()"
   ]
  },
  {
   "cell_type": "code",
   "execution_count": null,
   "id": "edeaef2e-8349-4007-95d8-07a3bc9451fe",
   "metadata": {
    "colab": {
     "base_uri": "https://localhost:8080/"
    },
    "id": "edeaef2e-8349-4007-95d8-07a3bc9451fe",
    "outputId": "c470366b-d11a-461a-f0bb-e7c257a28542"
   },
   "outputs": [],
   "source": [
    "ddf.shape"
   ]
  },
  {
   "cell_type": "code",
   "execution_count": null,
   "id": "c341eae7-d60b-4ed8-9098-b68090c83fcb",
   "metadata": {
    "id": "c341eae7-d60b-4ed8-9098-b68090c83fcb"
   },
   "outputs": [],
   "source": [
    "import dask as dd\n",
    "ddf[\"sys_created_at\"] = ddf[\"sys_created_at\"].apply(lambda x: parser.parse(x))\n",
    "ddf[\"opened_at\"] = ddf[\"opened_at\"].apply(lambda x: parser.parse(x))\n",
    "ddf[\"resolved_at\"] = ddf[\"resolved_at\"].apply(lambda x: parser.parse(x))\n",
    "ddf[\"closed_at\"] = ddf[\"closed_at\"].apply(lambda x: parser.parse(x))\n",
    "ddf[\"sys_updated_at\"] = ddf[\"sys_updated_at\"].apply(lambda x: parser.parse(x))"
   ]
  },
  {
   "cell_type": "code",
   "execution_count": null,
   "id": "8c1e6319-7d86-4f2a-bd6f-d08f4e685b1e",
   "metadata": {
    "id": "8c1e6319-7d86-4f2a-bd6f-d08f4e685b1e"
   },
   "outputs": [],
   "source": [
    "for k,v in mod_type_info.items():\n",
    "    if k in int_cols:\n",
    "        mod_type_info[k] = \"int64\"\n",
    "    if k in date_time_cols:\n",
    "        mod_type_info[k] = \"datetime64[ns]\"\n"
   ]
  },
  {
   "cell_type": "code",
   "execution_count": null,
   "id": "1119c230-d85e-431d-9def-0a7f13c29d58",
   "metadata": {
    "id": "1119c230-d85e-431d-9def-0a7f13c29d58"
   },
   "outputs": [],
   "source": [
    "category_cols = [ c for c in cols if (c not in int_cols and c not in date_time_cols)]"
   ]
  },
  {
   "cell_type": "code",
   "execution_count": null,
   "id": "67d8da79-ea71-451d-8fe6-911ffca1f293",
   "metadata": {
    "colab": {
     "base_uri": "https://localhost:8080/"
    },
    "id": "67d8da79-ea71-451d-8fe6-911ffca1f293",
    "outputId": "9bac84e8-eb25-40f4-cac9-121ace299ffe"
   },
   "outputs": [],
   "source": [
    "category_cols"
   ]
  },
  {
   "cell_type": "code",
   "execution_count": null,
   "id": "b7cf9686-6dc3-42de-8deb-c80165e8c4d1",
   "metadata": {
    "id": "b7cf9686-6dc3-42de-8deb-c80165e8c4d1"
   },
   "outputs": [],
   "source": [
    "nan_strings = \"UNKNOWN\"\n",
    "for c in category_cols:\n",
    "    ddf[c] = ddf[c].fillna(\"UNKNOWN\")\n",
    "    ddf[c] = ddf[c].astype(str)"
   ]
  },
  {
   "cell_type": "code",
   "execution_count": null,
   "id": "a9a90d98-ba59-4aaf-bc2d-f0c77d11cd77",
   "metadata": {
    "id": "a9a90d98-ba59-4aaf-bc2d-f0c77d11cd77"
   },
   "outputs": [],
   "source": [
    "df_nv_fix_check = ddf.isnull().any().to_frame().reset_index()\n",
    "df_nv_fix_check.columns = [\"columns\", \"null_values\"]"
   ]
  },
  {
   "cell_type": "code",
   "execution_count": null,
   "id": "b91cfd1a-7f6c-4006-857f-8fc5e2d7919f",
   "metadata": {
    "colab": {
     "base_uri": "https://localhost:8080/",
     "height": 1000
    },
    "id": "b91cfd1a-7f6c-4006-857f-8fc5e2d7919f",
    "outputId": "fa036d9b-2573-4f21-ccfc-db7b4c9ab130"
   },
   "outputs": [],
   "source": [
    "df_nv_fix_check"
   ]
  },
  {
   "cell_type": "code",
   "execution_count": null,
   "id": "9acc802b-61d9-4021-b539-2ec737655f6e",
   "metadata": {
    "colab": {
     "base_uri": "https://localhost:8080/"
    },
    "id": "9acc802b-61d9-4021-b539-2ec737655f6e",
    "outputId": "afa0f236-acd5-4372-86d4-786cf05dbfcc"
   },
   "outputs": [],
   "source": [
    "mod_type_info"
   ]
  },
  {
   "cell_type": "code",
   "execution_count": null,
   "id": "c6ad6111-2536-4c53-92ea-6dd3be10156e",
   "metadata": {
    "colab": {
     "base_uri": "https://localhost:8080/"
    },
    "id": "c6ad6111-2536-4c53-92ea-6dd3be10156e",
    "outputId": "834feea2-9e64-4e44-85de-e27e3731bfd3"
   },
   "outputs": [],
   "source": [
    "ddf.dtypes"
   ]
  },
  {
   "cell_type": "code",
   "execution_count": null,
   "id": "9e097ba1-c484-417c-9300-372609b36174",
   "metadata": {
    "id": "9e097ba1-c484-417c-9300-372609b36174"
   },
   "outputs": [],
   "source": [
    "ddf_qy = ddf[(ddf[\"closed_at\"].dt.quarter == 2) & (ddf[\"closed_at\"].dt.year == 2016)]\n",
    "fp = \"../data/ticket_resolution_Q2_2016.csv\"\n",
    "ddf_qy.to_csv(fp, index=False)\n"
   ]
  },
  {
   "cell_type": "code",
   "execution_count": null,
   "id": "3591340f",
   "metadata": {
    "id": "3591340f"
   },
   "outputs": [],
   "source": [
    "df_types = ddf.dtypes.to_frame().reset_index()\n",
    "df_types.columns = [\"attribute\", \"type\"]\n",
    "fp =\"../data/data_types.csv\"\n",
    "df_types.to_csv(fp, index=False)"
   ]
  },
  {
   "cell_type": "code",
   "execution_count": null,
   "id": "beddc155",
   "metadata": {
    "colab": {
     "base_uri": "https://localhost:8080/",
     "height": 1000
    },
    "id": "beddc155",
    "outputId": "254ae674-2330-4326-b974-84c24bf2a3c8"
   },
   "outputs": [],
   "source": [
    "df_types"
   ]
  },
  {
   "cell_type": "code",
   "execution_count": null,
   "id": "9163e8e4",
   "metadata": {
    "id": "9163e8e4"
   },
   "outputs": [],
   "source": []
  }
 ],
 "metadata": {
  "colab": {
   "include_colab_link": true,
   "provenance": []
  },
  "kernelspec": {
   "display_name": "Python 3 (ipykernel)",
   "language": "python",
   "name": "python3"
  },
  "language_info": {
   "codemirror_mode": {
    "name": "ipython",
    "version": 3
   },
   "file_extension": ".py",
   "mimetype": "text/x-python",
   "name": "python",
   "nbconvert_exporter": "python",
   "pygments_lexer": "ipython3",
   "version": "3.10.12"
  }
 },
 "nbformat": 4,
 "nbformat_minor": 5
}
